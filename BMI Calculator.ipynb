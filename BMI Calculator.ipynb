{
 "cells": [
  {
   "cell_type": "markdown",
   "id": "729b831b",
   "metadata": {},
   "source": [
    "# BMI Calculator\n",
    "https://mercer-health.com/services/weight-management-center/bmi-calculator#:~:text=Body%20Mass%20Index%2C%20or%20BMI,inches%20x%20height%20in%20inches\n",
    "\n",
    "\n",
    "For anyone interested in doing this for an aussie version used the input \n",
    "\n",
    "weight = float(input (\"Enter your weight in kilograms: \"))\n",
    "\n",
    "height = float(input (\"Enter your height in meters: \"))\n",
    "\n",
    "BMI = weight / (height ** 2)"
   ]
  },
  {
   "cell_type": "code",
   "execution_count": 14,
   "id": "71bd329e",
   "metadata": {},
   "outputs": [
    {
     "name": "stdout",
     "output_type": "stream",
     "text": [
      "Enter you name: Mustafa\n",
      "Enter your weight in pounds: 170\n",
      "Enter your height in inches: 69\n",
      "25.1\n",
      "Mustafa, you are overweight. You need to exercise more and stop sitting and writing so many python tutorials.\n"
     ]
    }
   ],
   "source": [
    "name = input(\"Enter you name: \")\n",
    "weight = float(input('Enter your weight in pounds: '))\n",
    "\n",
    "height = float(input('Enter your height in inches: '))\n",
    "\n",
    "BMI = round((weight * 703) / (height * height),1)\n",
    "\n",
    "print(BMI)\n",
    "\n",
    "if BMI>0:\n",
    "    if(BMI<18.5):\n",
    "        print(name +\", you are underwight.\")\n",
    "    elif (BMI<=24.9):\n",
    "        print(name +\", you are normal weight.\")\n",
    "    elif (BMI<29.9):\n",
    "        print(name +\", you are overweight. You need to exercise more and stop sitting and writing so many python tutorials.\")\n",
    "    elif (BMI<34.9):\n",
    "        print(name +\", you are obese.\")\n",
    "    elif (BMI<39.9):\n",
    "        print(name +\", you are severely obese.\")\n",
    "    else:\n",
    "        print(name +\", you are morbidly obese.\")\n",
    "else:\n",
    "    print(\"Enter valid input\")"
   ]
  },
  {
   "cell_type": "code",
   "execution_count": null,
   "id": "0b6cafa9",
   "metadata": {},
   "outputs": [],
   "source": []
  },
  {
   "cell_type": "code",
   "execution_count": null,
   "id": "a9b91938",
   "metadata": {},
   "outputs": [],
   "source": []
  }
 ],
 "metadata": {
  "kernelspec": {
   "display_name": "Python 3 (ipykernel)",
   "language": "python",
   "name": "python3"
  },
  "language_info": {
   "codemirror_mode": {
    "name": "ipython",
    "version": 3
   },
   "file_extension": ".py",
   "mimetype": "text/x-python",
   "name": "python",
   "nbconvert_exporter": "python",
   "pygments_lexer": "ipython3",
   "version": "3.10.9"
  }
 },
 "nbformat": 4,
 "nbformat_minor": 5
}
