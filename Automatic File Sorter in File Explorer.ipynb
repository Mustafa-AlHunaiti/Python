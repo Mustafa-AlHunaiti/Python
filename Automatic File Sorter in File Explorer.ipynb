{
 "cells": [
  {
   "cell_type": "markdown",
   "id": "eba09a1b",
   "metadata": {},
   "source": [
    "# Automatic File Sorter in File Explorer\n",
    "shutil it allows you to perform various file-related tasks that are similar to the commands that you might use in a Unix shell, such as copying, moving, renaming, and deleting files and directories."
   ]
  },
  {
   "cell_type": "code",
   "execution_count": 37,
   "id": "89ebea2c",
   "metadata": {},
   "outputs": [],
   "source": [
    "# OS stands for operating system, shutil stands for shell utilities it allow us to do some high level operations on our files in file explorer    \n",
    "import os, shutil "
   ]
  },
  {
   "cell_type": "code",
   "execution_count": 38,
   "id": "a74bcc91",
   "metadata": {},
   "outputs": [],
   "source": [
    "# r in the beginning to make it a raw text \n",
    "path = r\"C:/Users/Hussam AlHunaiti/Desktop/MustafaProjects/Python/Automatic File Sorter in File Explorer/\""
   ]
  },
  {
   "cell_type": "markdown",
   "id": "eed9d1d2",
   "metadata": {},
   "source": [
    "# 1- First thing is \n",
    "## we need to go in path and we need to see this path and we need to see are there folders in here already\n",
    "## if not we need to create a folder \n",
    "\n",
    "# 2- The next thing we need is\n",
    "## it needs to check each of these files individually identify what kind of file it is and then put it into the correct folder\n",
    "\n",
    "# so we have to create the folder then check these and then place it into the correct folder "
   ]
  },
  {
   "cell_type": "code",
   "execution_count": 39,
   "id": "afbac62d",
   "metadata": {},
   "outputs": [
    {
     "data": {
      "text/plain": [
       "['dog1.jpg',\n",
       " 'dog2.jpg',\n",
       " 'FakeFile.txt',\n",
       " 'Nashville-Housing-Data-for-Data-Cleaning-.csv']"
      ]
     },
     "execution_count": 39,
     "metadata": {},
     "output_type": "execute_result"
    }
   ],
   "source": [
    "# show us what files in that path  \n",
    "file_name = os.listdir(path)\n",
    "file_name"
   ]
  },
  {
   "cell_type": "code",
   "execution_count": 40,
   "id": "4e9b4093",
   "metadata": {},
   "outputs": [],
   "source": [
    "# os.path.exists(path + 'csv files') # check if this path exists already"
   ]
  },
  {
   "cell_type": "code",
   "execution_count": 42,
   "id": "3a70399c",
   "metadata": {},
   "outputs": [],
   "source": [
    "# check if there's a folder and create it if it isn't there \n",
    "folder_names = ['csv files', 'image files', 'text files'] \n",
    "for loop in range(0,3):\n",
    "    if not os.path.exists(path + folder_names[loop]): # if this path does not exist\n",
    "        #print(path + folder_names[loop]) # we have our folders all three folders\n",
    "        os.makedirs(path + folder_names[loop])      "
   ]
  },
  {
   "cell_type": "markdown",
   "id": "e64159b9",
   "metadata": {},
   "source": [
    "# now we need to write a script that will read in this path and check and see what kind of file it is and place it into the correct folder "
   ]
  },
  {
   "cell_type": "code",
   "execution_count": 43,
   "id": "add4a986",
   "metadata": {},
   "outputs": [],
   "source": [
    "for file in file_name:\n",
    "    if '.csv' in file and not os.path.exists(path + 'csv files/' + file):\n",
    "        # move the file we want\n",
    "        shutil.move(path + file, path + 'csv files/') # shutil.move(file path, we want to move it to here ) \n",
    "        \n",
    "    elif '.jpg' in file and not os.path.exists(path + 'image files/' + file):\n",
    "        \n",
    "        shutil.move(path + file, path + 'image files/')\n",
    "        \n",
    "    elif '.txt' in file and not os.path.exists(path + 'text files/' + file):\n",
    "        \n",
    "        shutil.move(path + file, path + 'text files/')\n",
    "    else:\n",
    "        print(\"There are files in this path that were not moved!\")"
   ]
  },
  {
   "cell_type": "code",
   "execution_count": null,
   "id": "da08d97b",
   "metadata": {},
   "outputs": [],
   "source": []
  },
  {
   "cell_type": "code",
   "execution_count": null,
   "id": "97c9e4eb",
   "metadata": {},
   "outputs": [],
   "source": []
  }
 ],
 "metadata": {
  "kernelspec": {
   "display_name": "Python 3 (ipykernel)",
   "language": "python",
   "name": "python3"
  },
  "language_info": {
   "codemirror_mode": {
    "name": "ipython",
    "version": 3
   },
   "file_extension": ".py",
   "mimetype": "text/x-python",
   "name": "python",
   "nbconvert_exporter": "python",
   "pygments_lexer": "ipython3",
   "version": "3.10.9"
  }
 },
 "nbformat": 4,
 "nbformat_minor": 5
}
